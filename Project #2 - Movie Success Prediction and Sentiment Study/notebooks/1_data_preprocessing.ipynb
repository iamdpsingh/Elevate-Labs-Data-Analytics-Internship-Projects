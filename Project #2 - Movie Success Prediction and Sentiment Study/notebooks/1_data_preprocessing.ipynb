{
 "cells": [
  {
   "cell_type": "code",
   "execution_count": 1,
   "id": "c1ba9c27",
   "metadata": {},
   "outputs": [],
   "source": [
    "import pandas as pd\n",
    "import numpy as np"
   ]
  },
  {
   "cell_type": "code",
   "execution_count": 2,
   "id": "e5ea546f",
   "metadata": {},
   "outputs": [],
   "source": [
    "# Load data\n",
    "movies = pd.read_csv('../data/movies_metadata.csv', low_memory=False)\n",
    "ratings = pd.read_csv('../data/ratings.csv')"
   ]
  },
  {
   "cell_type": "code",
   "execution_count": 3,
   "id": "5393c69f",
   "metadata": {},
   "outputs": [],
   "source": [
    "# Clean movie dataset\n",
    "movies = movies[['id', 'title', 'budget', 'revenue', 'genres', 'vote_average', 'vote_count', 'release_date']]\n",
    "movies = movies.dropna(subset=['id', 'budget', 'revenue'])"
   ]
  },
  {
   "cell_type": "code",
   "execution_count": 4,
   "id": "a465ba78",
   "metadata": {},
   "outputs": [],
   "source": [
    "# Convert to numeric\n",
    "movies['budget'] = pd.to_numeric(movies['budget'], errors='coerce')\n",
    "movies['revenue'] = pd.to_numeric(movies['revenue'], errors='coerce')\n",
    "movies = movies.dropna(subset=['budget', 'revenue'])"
   ]
  },
  {
   "cell_type": "code",
   "execution_count": 5,
   "id": "061e5d0a",
   "metadata": {},
   "outputs": [],
   "source": [
    "# Filter out unrealistic values\n",
    "movies = movies[(movies['budget'] > 0) & (movies['revenue'] > 0)]"
   ]
  },
  {
   "cell_type": "code",
   "execution_count": 6,
   "id": "6df44be6",
   "metadata": {},
   "outputs": [],
   "source": [
    "# Merge with ratings (aggregate)\n",
    "ratings_grouped = ratings.groupby('movieId')['rating'].mean().reset_index()\n",
    "ratings_grouped.columns = ['movieId', 'avg_rating']"
   ]
  },
  {
   "cell_type": "code",
   "execution_count": 7,
   "id": "05e8e06d",
   "metadata": {},
   "outputs": [],
   "source": [
    "# Fix ID types for join\n",
    "movies['id'] = pd.to_numeric(movies['id'], errors='coerce')\n",
    "merged = pd.merge(movies, ratings_grouped, left_on='id', right_on='movieId', how='left')\n",
    "\n",
    "merged.to_csv('../data/merged_cleaned_movies.csv', index=False)"
   ]
  }
 ],
 "metadata": {
  "kernelspec": {
   "display_name": "Python 3",
   "language": "python",
   "name": "python3"
  },
  "language_info": {
   "codemirror_mode": {
    "name": "ipython",
    "version": 3
   },
   "file_extension": ".py",
   "mimetype": "text/x-python",
   "name": "python",
   "nbconvert_exporter": "python",
   "pygments_lexer": "ipython3",
   "version": "3.13.1"
  }
 },
 "nbformat": 4,
 "nbformat_minor": 5
}
